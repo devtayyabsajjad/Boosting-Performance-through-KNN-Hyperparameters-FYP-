{
 "cells": [
  {
   "cell_type": "code",
   "execution_count": 1,
   "metadata": {},
   "outputs": [],
   "source": [
    "# importing libraries\n",
    "import pandas as pd\n",
    "import numpy as np\n",
    "import seaborn as sns\n",
    "from sklearn.neighbors import KNeighborsClassifier\n",
    "from sklearn.model_selection import train_test_split\n",
    "from sklearn.metrics import accuracy_score\n",
    "from sklearn.metrics import f1_score\n",
    "from sklearn.impute import SimpleImputer\n",
    "from joblib import Parallel, delayed"
   ]
  },
  {
   "cell_type": "code",
   "execution_count": 2,
   "metadata": {},
   "outputs": [
    {
     "data": {
      "text/plain": [
       "(24016, 2401)"
      ]
     },
     "execution_count": 2,
     "metadata": {},
     "output_type": "execute_result"
    }
   ],
   "source": [
    "# Loading data\n",
    "df = pd.read_csv('Grouped.csv')\n",
    "df.shape\n"
   ]
  },
  {
   "cell_type": "code",
   "execution_count": 3,
   "metadata": {},
   "outputs": [
    {
     "name": "stdout",
     "output_type": "stream",
     "text": [
      "\n",
      "DataFrame after mean imputation:\n",
      "            x1      y1  xVel1  yVel1   xA1   yA1     xS1     yS1   xC1   yC1  \\\n",
      "0     -1414.14 -535.22 -17.88  -7.23  0.00  0.00    0.00    0.00  0.00  0.00   \n",
      "1     -1412.93  597.54 -13.55  -5.48  0.00  0.00    0.00    0.00  0.00  0.00   \n",
      "2     -1407.38   70.72 -14.37  -5.81  0.00  0.00    0.00    0.00  0.00  0.00   \n",
      "3     -1407.00 -759.80  -7.59  -1.27 -0.98 -0.20    0.00    0.00  0.91  0.41   \n",
      "4     -1406.36  698.39 -16.54  -6.95 -1.00  0.00 -944.07 -396.62  0.00  0.00   \n",
      "...        ...     ...    ...    ...   ...   ...     ...     ...   ...   ...   \n",
      "24011  1403.71  948.55   4.54  -6.29  0.00  0.00    0.00    0.00 -0.13 -0.29   \n",
      "24012  1403.72  133.09   9.46  14.33  0.00  1.00    0.00    0.00  0.00  0.00   \n",
      "24013  1404.38  144.31   6.98   3.89  0.00  0.00    0.00    0.00  0.00  0.00   \n",
      "24014  1404.61 -315.55   6.50   4.27  0.00  0.00    0.00    0.00  0.00  0.00   \n",
      "24015  1406.08 -354.52  10.00   1.18  0.00 -0.01    0.00    0.00  0.31  0.07   \n",
      "\n",
      "       ...  yVel200  xA200  yA200  xS200  yS200  xC200  yC200  nAC200  nS200  \\\n",
      "0      ...   -16.85    0.0   0.00   0.00   0.00   0.00   0.00    29.0    0.0   \n",
      "1      ...   -12.09    0.0   0.00   0.00   0.00   0.00   0.00    44.0    0.0   \n",
      "2      ...   -16.20    0.0   0.00   0.00   0.00   0.00   0.00    40.0    0.0   \n",
      "3      ...     2.99   -1.0  -0.07   0.00   0.00  -0.52   0.86     3.0    0.0   \n",
      "4      ...   -12.61    0.0  -1.00   0.00   0.00   0.00   0.00    13.0    0.0   \n",
      "...    ...      ...    ...    ...    ...    ...    ...    ...     ...    ...   \n",
      "24011  ...    -4.87    0.0   0.00   0.00   0.00  -0.26  -0.18    11.0    0.0   \n",
      "24012  ...     5.20    0.0   1.00  -0.10  -3.24   0.00   0.00    29.0    0.0   \n",
      "24013  ...     9.50    0.0   0.00  -0.85  -0.52   0.00   0.00     5.0    1.0   \n",
      "24014  ...    -0.75    0.0   0.00   0.00   0.00   0.00   0.00     1.0    0.0   \n",
      "24015  ...    -1.13    0.0   0.00   0.00   0.00  -0.31  -0.08     0.0    0.0   \n",
      "\n",
      "       Class  \n",
      "0        0.0  \n",
      "1        0.0  \n",
      "2        0.0  \n",
      "3        1.0  \n",
      "4        0.0  \n",
      "...      ...  \n",
      "24011    0.0  \n",
      "24012    0.0  \n",
      "24013    0.0  \n",
      "24014    0.0  \n",
      "24015    0.0  \n",
      "\n",
      "[24016 rows x 2401 columns]\n"
     ]
    }
   ],
   "source": [
    "# Initialize SimpleImputer to fill null values with the mean of each column\n",
    "imputer = SimpleImputer(strategy='mean')\n",
    "\n",
    "# Perform mean imputation on the entire DataFrame\n",
    "df_imputed = pd.DataFrame(imputer.fit_transform(df), columns=df.columns)\n",
    "print(\"\\nDataFrame after mean imputation:\")\n",
    "print(df_imputed)"
   ]
  },
  {
   "cell_type": "code",
   "execution_count": 4,
   "metadata": {},
   "outputs": [],
   "source": [
    "# Selecting columns\n",
    "x = df.drop(columns=['Class'])\n",
    "y = df['Class']"
   ]
  },
  {
   "cell_type": "code",
   "execution_count": 5,
   "metadata": {},
   "outputs": [],
   "source": [
    "# Train and Split\n",
    "x_train, x_test, y_train, y_test = train_test_split(x,y, test_size=0.3, random_state=42)"
   ]
  },
  {
   "cell_type": "code",
   "execution_count": 6,
   "metadata": {},
   "outputs": [],
   "source": [
    "wg = ['uniform', 'distance']  # weights\n",
    "p_values = list(range(1,3))  # p\n",
    "n_neighbors_values = list(range(5,10) ) # n_neighbors\n",
    "algorithm_values = ['auto','brute', 'ball_tree', 'kd_tree']  # algorithm\n",
    "leaf_size_values = list(range(20, 40, 10))  # leaf_size\n",
    "results = []\n"
   ]
  },
  {
   "cell_type": "code",
   "execution_count": 7,
   "metadata": {},
   "outputs": [
    {
     "name": "stdout",
     "output_type": "stream",
     "text": [
      "n_neighbors:5 weights:uniform p:1 Algorithm:auto Leaf size:20 Accuracy: 1.0 F1 Score: 1.0\n",
      "n_neighbors:5 weights:uniform p:1 Algorithm:auto Leaf size:30 Accuracy: 1.0 F1 Score: 1.0\n",
      "n_neighbors:5 weights:uniform p:1 Algorithm:brute Leaf size:20 Accuracy: 1.0 F1 Score: 1.0\n",
      "n_neighbors:5 weights:uniform p:1 Algorithm:brute Leaf size:30 Accuracy: 1.0 F1 Score: 1.0\n",
      "n_neighbors:5 weights:uniform p:1 Algorithm:ball_tree Leaf size:20 Accuracy: 1.0 F1 Score: 1.0\n",
      "n_neighbors:5 weights:uniform p:1 Algorithm:ball_tree Leaf size:30 Accuracy: 1.0 F1 Score: 1.0\n",
      "n_neighbors:5 weights:uniform p:1 Algorithm:kd_tree Leaf size:20 Accuracy: 1.0 F1 Score: 1.0\n",
      "n_neighbors:5 weights:uniform p:1 Algorithm:kd_tree Leaf size:30 Accuracy: 1.0 F1 Score: 1.0\n",
      "n_neighbors:6 weights:uniform p:1 Algorithm:auto Leaf size:20 Accuracy: 1.0 F1 Score: 1.0\n",
      "n_neighbors:6 weights:uniform p:1 Algorithm:auto Leaf size:30 Accuracy: 1.0 F1 Score: 1.0\n",
      "n_neighbors:6 weights:uniform p:1 Algorithm:brute Leaf size:20 Accuracy: 1.0 F1 Score: 1.0\n",
      "n_neighbors:6 weights:uniform p:1 Algorithm:brute Leaf size:30 Accuracy: 1.0 F1 Score: 1.0\n",
      "n_neighbors:6 weights:uniform p:1 Algorithm:ball_tree Leaf size:20 Accuracy: 1.0 F1 Score: 1.0\n",
      "n_neighbors:6 weights:uniform p:1 Algorithm:ball_tree Leaf size:30 Accuracy: 1.0 F1 Score: 1.0\n",
      "n_neighbors:6 weights:uniform p:1 Algorithm:kd_tree Leaf size:20 Accuracy: 1.0 F1 Score: 1.0\n",
      "n_neighbors:6 weights:uniform p:1 Algorithm:kd_tree Leaf size:30 Accuracy: 1.0 F1 Score: 1.0\n",
      "n_neighbors:7 weights:uniform p:1 Algorithm:auto Leaf size:20 Accuracy: 1.0 F1 Score: 1.0\n",
      "n_neighbors:7 weights:uniform p:1 Algorithm:auto Leaf size:30 Accuracy: 1.0 F1 Score: 1.0\n",
      "n_neighbors:7 weights:uniform p:1 Algorithm:brute Leaf size:20 Accuracy: 1.0 F1 Score: 1.0\n",
      "n_neighbors:7 weights:uniform p:1 Algorithm:brute Leaf size:30 Accuracy: 1.0 F1 Score: 1.0\n",
      "n_neighbors:7 weights:uniform p:1 Algorithm:ball_tree Leaf size:20 Accuracy: 1.0 F1 Score: 1.0\n",
      "n_neighbors:7 weights:uniform p:1 Algorithm:ball_tree Leaf size:30 Accuracy: 1.0 F1 Score: 1.0\n",
      "n_neighbors:7 weights:uniform p:1 Algorithm:kd_tree Leaf size:20 Accuracy: 1.0 F1 Score: 1.0\n",
      "n_neighbors:7 weights:uniform p:1 Algorithm:kd_tree Leaf size:30 Accuracy: 1.0 F1 Score: 1.0\n",
      "n_neighbors:8 weights:uniform p:1 Algorithm:auto Leaf size:20 Accuracy: 1.0 F1 Score: 1.0\n",
      "n_neighbors:8 weights:uniform p:1 Algorithm:auto Leaf size:30 Accuracy: 1.0 F1 Score: 1.0\n",
      "n_neighbors:8 weights:uniform p:1 Algorithm:brute Leaf size:20 Accuracy: 1.0 F1 Score: 1.0\n",
      "n_neighbors:8 weights:uniform p:1 Algorithm:brute Leaf size:30 Accuracy: 1.0 F1 Score: 1.0\n",
      "n_neighbors:8 weights:uniform p:1 Algorithm:ball_tree Leaf size:20 Accuracy: 1.0 F1 Score: 1.0\n",
      "n_neighbors:8 weights:uniform p:1 Algorithm:ball_tree Leaf size:30 Accuracy: 1.0 F1 Score: 1.0\n",
      "n_neighbors:8 weights:uniform p:1 Algorithm:kd_tree Leaf size:20 Accuracy: 1.0 F1 Score: 1.0\n",
      "n_neighbors:8 weights:uniform p:1 Algorithm:kd_tree Leaf size:30 Accuracy: 1.0 F1 Score: 1.0\n",
      "n_neighbors:9 weights:uniform p:1 Algorithm:auto Leaf size:20 Accuracy: 1.0 F1 Score: 1.0\n",
      "n_neighbors:9 weights:uniform p:1 Algorithm:auto Leaf size:30 Accuracy: 1.0 F1 Score: 1.0\n",
      "n_neighbors:9 weights:uniform p:1 Algorithm:brute Leaf size:20 Accuracy: 1.0 F1 Score: 1.0\n",
      "n_neighbors:9 weights:uniform p:1 Algorithm:brute Leaf size:30 Accuracy: 1.0 F1 Score: 1.0\n",
      "n_neighbors:9 weights:uniform p:1 Algorithm:ball_tree Leaf size:20 Accuracy: 1.0 F1 Score: 1.0\n",
      "n_neighbors:9 weights:uniform p:1 Algorithm:ball_tree Leaf size:30 Accuracy: 1.0 F1 Score: 1.0\n",
      "n_neighbors:9 weights:uniform p:1 Algorithm:kd_tree Leaf size:20 Accuracy: 1.0 F1 Score: 1.0\n",
      "n_neighbors:9 weights:uniform p:1 Algorithm:kd_tree Leaf size:30 Accuracy: 1.0 F1 Score: 1.0\n",
      "n_neighbors:5 weights:uniform p:2 Algorithm:auto Leaf size:20 Accuracy: 0.9998612074947952 F1 Score: 0.9998612018958892\n",
      "n_neighbors:5 weights:uniform p:2 Algorithm:auto Leaf size:30 Accuracy: 0.9998612074947952 F1 Score: 0.9998612018958892\n",
      "n_neighbors:5 weights:uniform p:2 Algorithm:brute Leaf size:20 Accuracy: 0.9998612074947952 F1 Score: 0.9998612018958892\n",
      "n_neighbors:5 weights:uniform p:2 Algorithm:brute Leaf size:30 Accuracy: 0.9998612074947952 F1 Score: 0.9998612018958892\n",
      "n_neighbors:5 weights:uniform p:2 Algorithm:ball_tree Leaf size:20 Accuracy: 0.9998612074947952 F1 Score: 0.9998612018958892\n",
      "n_neighbors:5 weights:uniform p:2 Algorithm:ball_tree Leaf size:30 Accuracy: 0.9998612074947952 F1 Score: 0.9998612018958892\n"
     ]
    }
   ],
   "source": [
    "# KNN classifier\n",
    "for wgh in wg:\n",
    "    for p in p_values:\n",
    "        for c in n_neighbors_values:\n",
    "            for algorithm in algorithm_values:\n",
    "                for leaf_size in leaf_size_values:\n",
    "                    # Train KNN model with current hyperparameters\n",
    "                    knn_model = KNeighborsClassifier(n_neighbors=c, weights=wgh, p=p, algorithm=algorithm, leaf_size=leaf_size)\n",
    "                    knn_model.fit(x_train, y_train)\n",
    "                    \n",
    "                    # Make predictions on the test set\n",
    "                    y_pred = knn_model.predict(x_test)\n",
    "                    \n",
    "                    # Calculate accuracy\n",
    "                    accuracy = accuracy_score(y_test, y_pred)\n",
    "                    \n",
    "                    # Calculate F1 score\n",
    "                    f1 = f1_score(y_test, y_pred, average='weighted')\n",
    "                    \n",
    "                    \n",
    "                    # Print and store results\n",
    "                    print(f'n_neighbors:{c} weights:{wgh} p:{p} Algorithm:{algorithm} Leaf size:{leaf_size} Accuracy: {accuracy} F1 Score: {f1}')\n",
    "                    results.append({'n_neighbor': c,\n",
    "                                     'weights': wgh, \n",
    "                                     'p': p, \n",
    "                                     'Algorithm': algorithm,\n",
    "                                     'Leaf size': leaf_size,\n",
    "                                     'Accuracy': accuracy,\n",
    "                                     'F1 Score': f1})\n",
    "                    \n",
    "                    \n",
    "\n",
    "df_results = pd.DataFrame(results,columns=['n_neighbor', 'weights','p', 'Algorithm', 'Leaf size','Accuracy', 'F1 Score'])\n",
    "\n",
    "# Save the DataFrame to a CSV file\n",
    "df_results.to_csv('swarm_result_one.csv', index=False)"
   ]
  },
  {
   "cell_type": "code",
   "execution_count": null,
   "metadata": {},
   "outputs": [],
   "source": []
  }
 ],
 "metadata": {
  "kernelspec": {
   "display_name": "Python 3",
   "language": "python",
   "name": "python3"
  },
  "language_info": {
   "codemirror_mode": {
    "name": "ipython",
    "version": 3
   },
   "file_extension": ".py",
   "mimetype": "text/x-python",
   "name": "python",
   "nbconvert_exporter": "python",
   "pygments_lexer": "ipython3",
   "version": "3.12.0"
  }
 },
 "nbformat": 4,
 "nbformat_minor": 2
}
