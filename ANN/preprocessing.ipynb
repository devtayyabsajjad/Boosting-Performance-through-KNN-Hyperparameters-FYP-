{
 "cells": [
  {
   "cell_type": "code",
   "execution_count": 2,
   "metadata": {},
   "outputs": [],
   "source": [
    "import pandas as pd\n",
    "from sklearn.model_selection import train_test_split\n",
    "from sklearn.preprocessing import StandardScaler, OneHotEncoder\n",
    "from sklearn.impute import SimpleImputer\n",
    "from sklearn.compose import ColumnTransformer\n",
    "from sklearn.pipeline import Pipeline\n",
    "\n",
    "# Load the dataset\n",
    "data = pd.read_csv(r'result.csv')\n",
    "\n",
    "\n",
    "# Identify numeric and categorical columns\n",
    "numeric_features = ['n_neighbor', 'p', 'Leaf size']  # Corrected numeric features\n",
    "categorical_features = ['weights', 'Algorithm']  # Example categorical features\n",
    "\n",
    "# Define transformers for numeric and categorical columns\n",
    "numeric_transformer = Pipeline(steps=[\n",
    "    ('imputer', SimpleImputer(strategy='mean')),\n",
    "    ('scaler', StandardScaler())\n",
    "])\n",
    "\n",
    "categorical_transformer = Pipeline(steps=[\n",
    "    ('imputer', SimpleImputer(strategy='most_frequent')),\n",
    "    ('onehot', OneHotEncoder(handle_unknown='ignore'))\n",
    "])\n",
    "\n",
    "# Combine transformers into a ColumnTransformer\n",
    "preprocessor = ColumnTransformer(\n",
    "    transformers=[\n",
    "        ('num', numeric_transformer, numeric_features),\n",
    "        ('cat', categorical_transformer, categorical_features)\n",
    "    ])\n",
    "\n",
    "# Apply transformations\n",
    "X = data.drop(['Accuracy', 'F1 Score'], axis=1)  # Adjusted to drop both 'Accuracy' and 'F1 Score'\n",
    "y = data[['Accuracy', 'F1 Score']]  # Corrected to select both 'Accuracy' and 'F1 Score' as target variables\n",
    "\n",
    "# Preprocess the features\n",
    "X_preprocessed = preprocessor.fit_transform(X)\n",
    "\n",
    "# Retrieve column names for the one-hot encoded features\n",
    "new_categorical_features = preprocessor.named_transformers_['cat']['onehot'].get_feature_names_out(categorical_features)\n",
    "all_features = numeric_features + list(new_categorical_features)  # Combine all feature names\n",
    "\n",
    "# Create a DataFrame with the new column names\n",
    "X_preprocessed_df = pd.DataFrame(X_preprocessed, columns=all_features)\n",
    "\n",
    "# Append the target variable to the DataFrame\n",
    "X_preprocessed_df[['Accuracy', 'F1 Score']] = y  # Corrected to append both 'Accuracy' and 'F1 Score'\n",
    "\n",
    "# Split the dataset into training and testing sets\n",
    "X_train, X_test, y_train, y_test = train_test_split(X_preprocessed_df, y, test_size=0.2, random_state=42)\n",
    "\n",
    "# Save the entire dataset (features + target) to a single CSV file\n",
    "X_preprocessed_df.to_csv('preprocessed1.csv', index=False)\n",
    "\n",
    "# Now X_train and X_test are ready to use with a KNN model and saved for future use"
   ]
  },
  {
   "cell_type": "code",
   "execution_count": 10,
   "metadata": {},
   "outputs": [
    {
     "data": {
      "text/plain": [
       "(2224, 11)"
      ]
     },
     "execution_count": 10,
     "metadata": {},
     "output_type": "execute_result"
    }
   ],
   "source": []
  },
  {
   "cell_type": "code",
   "execution_count": null,
   "metadata": {},
   "outputs": [],
   "source": []
  }
 ],
 "metadata": {
  "kernelspec": {
   "display_name": "Python 3",
   "language": "python",
   "name": "python3"
  },
  "language_info": {
   "codemirror_mode": {
    "name": "ipython",
    "version": 3
   },
   "file_extension": ".py",
   "mimetype": "text/x-python",
   "name": "python",
   "nbconvert_exporter": "python",
   "pygments_lexer": "ipython3",
   "version": "3.12.0"
  }
 },
 "nbformat": 4,
 "nbformat_minor": 2
}
